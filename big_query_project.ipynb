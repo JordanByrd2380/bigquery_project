{
  "nbformat": 4,
  "nbformat_minor": 0,
  "metadata": {
    "colab": {
      "name": "big_query_project.ipynb",
      "provenance": [],
      "collapsed_sections": [],
      "include_colab_link": true
    },
    "kernelspec": {
      "name": "python3",
      "display_name": "Python 3"
    }
  },
  "cells": [
    {
      "cell_type": "markdown",
      "metadata": {
        "id": "view-in-github",
        "colab_type": "text"
      },
      "source": [
        "<a href=\"https://colab.research.google.com/github/JordanByrd2380/bigquery_project/blob/main/big_query_project.ipynb\" target=\"_parent\"><img src=\"https://colab.research.google.com/assets/colab-badge.svg\" alt=\"Open In Colab\"/></a>"
      ]
    },
    {
      "cell_type": "markdown",
      "metadata": {
        "id": "U5JUMgc_gbHp"
      },
      "source": [
        "# CS145: Project 3 | Discovering Trends in NCAA Basketball History"
      ]
    },
    {
      "cell_type": "markdown",
      "metadata": {
        "id": "EHDiv4GrhofN"
      },
      "source": [
        "## Collaborators:\n",
        "Please list the names and SUNet IDs of your collaborators below:\n",
        "* Jordan Byrd, jbyrd23\n"
      ]
    },
    {
      "cell_type": "markdown",
      "metadata": {
        "id": "gMNQWFvSgepX"
      },
      "source": [
        "## Project Overview"
      ]
    },
    {
      "cell_type": "markdown",
      "metadata": {
        "id": "lX1Jkglwg1SI"
      },
      "source": [
        "---\n",
        "\n",
        "The main goal of this project is to predict whether a player will make a given shot based on a variety of factors such as the player's efficiency, height, weight, distance from the attacking basket, whether the shot is a clutch shot or not (we can define a clutch shot as < 15 seconds remaining in the half), and other general metrics such as assists, rebounds, and steals. Being able to accuractely predict these metrics can be useful in determining which team will win the game, and who should be taking the shots and where the shots should be taken from. \n",
        "\n",
        "---\n"
      ]
    },
    {
      "cell_type": "markdown",
      "metadata": {
        "id": "r_GvgTCcgv6N"
      },
      "source": [
        "## Analysis of Dataset"
      ]
    },
    {
      "cell_type": "markdown",
      "metadata": {
        "id": "c6wGQ8ZPgyuJ"
      },
      "source": [
        "---\n",
        "\n",
        "In this project, I am using the ncaa_basketball dataset found in the BigQuery public datasets. This dataset has a variety of tables, but for this project I am only using the mbb_pbp_sr and mbb_players_games_sr tables which are 3.14 GB and 421 MB, respectively. The mbb_pbp_sr table consists of play by play information such as shots, assists, steals, etc. In this project, I am only considering the field goal events from the table. The table also consists of seasons from the 2013-2014 season up until 2018. This table has an event_id primary key. The mbb_players_games_sr table consists of player statlines for every game over these same years. The primary key of this table is game_id, player_id pairs. In this project, I will be primarily focused on the mbb_pbp_sr table, but will perform joins with the mbb_players_games table on player_id in order to extract aggregated player information (assists, rebounds, steals, shooting percentages, height, weight). \n",
        "\n",
        "----"
      ]
    },
    {
      "cell_type": "markdown",
      "metadata": {
        "id": "Fc_clta9g3H5"
      },
      "source": [
        "## Data Exploration"
      ]
    },
    {
      "cell_type": "code",
      "metadata": {
        "id": "iTYZZK-lhCV9"
      },
      "source": [
        "# Run this cell to authenticate yourself to BigQuery\n",
        "from google.colab import auth\n",
        "auth.authenticate_user()\n",
        "project_id = \"project1-327322\""
      ],
      "execution_count": null,
      "outputs": []
    },
    {
      "cell_type": "code",
      "metadata": {
        "id": "uIY7-6-thFc-"
      },
      "source": [
        "# Initialize BiqQuery client\n",
        "from google.cloud import bigquery\n",
        "client = bigquery.Client(project=project_id)"
      ],
      "execution_count": null,
      "outputs": []
    },
    {
      "cell_type": "markdown",
      "metadata": {
        "id": "OsMMIDrjg_YG"
      },
      "source": [
        "---\n",
        "\n",
        "One very useful feature to start with is calculating the distance between the shot that was taken and the basket which the player is attacking. This will aid in determining the odds of whether the shot was made. More useful information might be information such as the physical build of the player who took the shot, such as height, weight, and overall athleticism. This information can be found by joining the pbp table with the mbb_players on player_id. \n",
        "\n",
        "*TODO: Exploring your questions, with appropriate visualizations*\n",
        "\n",
        "---"
      ]
    },
    {
      "cell_type": "markdown",
      "metadata": {
        "id": "kzYDOw_mfqhT"
      },
      "source": [
        "Here, we can see whether a shot was made based on how far away the shot was taken from:"
      ]
    },
    {
      "cell_type": "code",
      "metadata": {
        "id": "aEE1Ubfcey18"
      },
      "source": [
        "%%bigquery --project $project_id q1\n",
        "\n",
        "SELECT IF(team_basket = \"left\", SQRT(POWER(event_coord_x, 2) + POWER(event_coord_y - 300, 2)), SQRT(POWER(event_coord_x - 1128, 2) + POWER(event_coord_y - 300, 2))) AS distance,\n",
        "IF(shot_made = false, 0, 1) label\n",
        "FROM `bigquery-public-data.ncaa_basketball.mbb_pbp_sr` \n",
        "LIMIT 100000"
      ],
      "execution_count": null,
      "outputs": []
    },
    {
      "cell_type": "code",
      "metadata": {
        "colab": {
          "base_uri": "https://localhost:8080/",
          "height": 174
        },
        "id": "-39K7V9kgGFz",
        "outputId": "d13005b3-c068-4a4e-e6f1-5b502a682881"
      },
      "source": [
        "import matplotlib.pyplot as plt\n",
        "plt.figure(figsize=(30, 2))\n",
        "plt.scatter(q1[\"distance\"], q1[\"label\"])\n",
        "plt.title(\"Shot Made vs Shot Distance\")\n",
        "plt.xlabel(\"Shot Distance in Inches\")\n",
        "plt.ylabel(\"Shot Made\")"
      ],
      "execution_count": null,
      "outputs": [
        {
          "output_type": "execute_result",
          "data": {
            "text/plain": [
              "Text(0, 0.5, 'Shot Made')"
            ]
          },
          "metadata": {},
          "execution_count": 14
        },
        {
          "output_type": "display_data",
          "data": {
            "image/png": "[encoded data removed]",
            "text/plain": [
              "<Figure size 2160x144 with 1 Axes>"
            ]
          },
          "metadata": {
            "needs_background": "light"
          }
        }
      ]
    },
    {
      "cell_type": "markdown",
      "metadata": {
        "id": "jJm0ooxqB3k1"
      },
      "source": [
        "As we can see, the majority of shots are made from within 400 inches of the basket. Given a new data point with a distance of over 400 inches would be almost certainly 0."
      ]
    },
    {
      "cell_type": "markdown",
      "metadata": {
        "id": "AlSC2G0SCC4-"
      },
      "source": [
        "Another useful feature we can get is the player's efficiency and aggregate statistics. This can help us predict whether the player is likely to make the shot or not. "
      ]
    },
    {
      "cell_type": "code",
      "metadata": {
        "id": "vZ0ooQS9CoZu"
      },
      "source": [
        "%%bigquery --project $project_id q2\n",
        "\n",
        "SELECT DISTINCT pct, IF(shot_made = false, 0, 1) label\n",
        "FROM ( SELECT player_id, SUM(free_throws_made)/SUM(free_throws_att) + SUM(two_points_made)/SUM(two_points_att) + SUM(three_points_made)/SUM(three_points_att) pct\n",
        "FROM `bigquery-public-data.ncaa_basketball.mbb_players_games_sr` \n",
        "WHERE free_throws_att != 0\n",
        "AND two_points_att != 0\n",
        "AND three_points_att != 0\n",
        "GROUP BY player_id) t1, \n",
        "`bigquery-public-data.ncaa_basketball.mbb_pbp_sr` t2\n",
        "WHERE t1.player_id = t2.player_id\n",
        "LIMIT 30"
      ],
      "execution_count": null,
      "outputs": []
    },
    {
      "cell_type": "code",
      "metadata": {
        "colab": {
          "base_uri": "https://localhost:8080/",
          "height": 174
        },
        "id": "px30y8rYElLb",
        "outputId": "64cfcae9-79b1-469a-8f55-41cab0660c91"
      },
      "source": [
        "import matplotlib.pyplot as plt\n",
        "plt.figure(figsize=(30, 2))\n",
        "plt.scatter(q2[\"pct\"], q2[\"label\"])\n",
        "plt.title(\"Shot Made vs Shot Percentage Sum\")\n",
        "plt.xlabel(\"Shot Percentage Sum (FT, 3P, 2P)\")\n",
        "plt.ylabel(\"Shot Made\")"
      ],
      "execution_count": null,
      "outputs": [
        {
          "output_type": "execute_result",
          "data": {
            "text/plain": [
              "Text(0, 0.5, 'Shot Made')"
            ]
          },
          "metadata": {},
          "execution_count": 23
        },
        {
          "output_type": "display_data",
          "data": {
            "image/png": "[encoded data removed]",
            "text/plain": [
              "<Figure size 2160x144 with 1 Axes>"
            ]
          },
          "metadata": {
            "needs_background": "light"
          }
        }
      ]
    },
    {
      "cell_type": "markdown",
      "metadata": {
        "id": "_YOYj4aXLxyE"
      },
      "source": [
        "From this chosen sample, we can see that players who shoot higher percentages tend to make more shots. From this sample, no players even had a total shooting percentage over 2.0, which demonstrates why most of the shots were missd. "
      ]
    },
    {
      "cell_type": "markdown",
      "metadata": {
        "id": "R5dhkYacMJAy"
      },
      "source": [
        "It may also be helpful to opt to include other aggregate features, such as assists, steals, and rebounds. While these stats may not seem to directly help us know how good a shooter is, they are positively correlated to how good a player generally is. Therefore, higher stats might tell us a player is more likely to produce. "
      ]
    },
    {
      "cell_type": "markdown",
      "metadata": {
        "id": "BAiPRm3rMdi8"
      },
      "source": [
        "Another useful stat is how much time is remaining in the half. This is because as there is less time in the half, the player has to get a shot off. Intuitively, when there is very little time remaining in the half when a player shoots the ball, we can expect the player to likely miss the shot. This is because the player is likely forced to get a shot up, and it may not be ideal. Since this is only really applicable when there is very little time remaning in the half, we can create a boolean where it is activated only when there is less than 15 seconds remaining in the half."
      ]
    },
    {
      "cell_type": "code",
      "metadata": {
        "id": "OY7eKWdTNbab"
      },
      "source": [
        "%%bigquery --project $project_id q3\n",
        "SELECT IF(shot_made = false, 0, 1) label, IF(IF(elapsed_time_sec > 1200, 2400 - elapsed_time_sec, 1200 - elapsed_time_sec) > 15, 0, 1) clutch_shot\n",
        "FROM `bigquery-public-data.ncaa_basketball.mbb_pbp_sr` LIMIT 100000"
      ],
      "execution_count": null,
      "outputs": []
    },
    {
      "cell_type": "code",
      "metadata": {
        "colab": {
          "base_uri": "https://localhost:8080/",
          "height": 401
        },
        "id": "kR1AMOorOcx5",
        "outputId": "827c5264-7ab0-4918-f5bc-4d2407cd7cb2"
      },
      "source": [
        "import matplotlib.pyplot as plt\n",
        "#plt.figure(figsize=(30, 2))\n",
        "total_nonclutch = 0\n",
        "total0 = 0\n",
        "total_clutch = 0\n",
        "total1 = 0\n",
        "for i in range(len(q3['clutch_shot'])):\n",
        "  if q3['clutch_shot'][i] == 1:\n",
        "    total1 += q3['label'][i]\n",
        "    total_clutch += 1\n",
        "  else:\n",
        "    total0 += q3['label'][i]\n",
        "    total_nonclutch += 1\n",
        "print(total0/total_nonclutch, total1/total_clutch)\n",
        "fig = plt.figure()\n",
        "ax = fig.add_axes([0,0,1,1])\n",
        "ax.bar([0, 1], [total0/total_nonclutch, total1/total_clutch])\n",
        "ax.set_ylabel(\"Percent of Shots Made\")\n",
        "ax.set_xlabel(\"Clutch Shot\")\n",
        "ax.set_title(\"Shot Percentage vs. Whether Shot was Clutch\")"
      ],
      "execution_count": null,
      "outputs": [
        {
          "output_type": "stream",
          "name": "stdout",
          "text": [
            "0.18408144671744728 0.11967183877296236\n"
          ]
        },
        {
          "output_type": "execute_result",
          "data": {
            "text/plain": [
              "Text(0.5, 1.0, 'Shot Percentage vs. Whether Shot was Clutch')"
            ]
          },
          "metadata": {},
          "execution_count": 38
        },
        {
          "output_type": "display_data",
          "data": {
            "image/png": "[encoded data removed]",
            "text/plain": [
              "<Figure size 432x288 with 1 Axes>"
            ]
          },
          "metadata": {
            "needs_background": "light"
          }
        }
      ]
    },
    {
      "cell_type": "markdown",
      "metadata": {
        "id": "aa-uWmvDXj9p"
      },
      "source": [
        "We can see that there is a noticeable difference between the shot percentages, which makes this a useful feature.  "
      ]
    },
    {
      "cell_type": "markdown",
      "metadata": {
        "id": "39OsI4X2XurJ"
      },
      "source": [
        "One last thing we can do is see if there is some correlation between size (height and weight) and whether a shot is made. "
      ]
    },
    {
      "cell_type": "code",
      "metadata": {
        "id": "InmLweNuYVzY"
      },
      "source": [
        "%%bigquery --project $project_id q4\n",
        "\n",
        "SELECT height,\n",
        "(SUM(free_throws_made) + SUM(two_points_made) + SUM(three_points_made))/(SUM(free_throws_att) + SUM(two_points_att) + SUM(three_points_att)) pct \n",
        "FROM `bigquery-public-data.ncaa_basketball.mbb_players_games_sr`\n",
        "GROUP BY height\n",
        "HAVING (SUM(free_throws_att) + SUM(two_points_att) + SUM(three_points_att)) != 0\n",
        "#LIMIT 1000"
      ],
      "execution_count": null,
      "outputs": []
    },
    {
      "cell_type": "code",
      "metadata": {
        "colab": {
          "base_uri": "https://localhost:8080/",
          "height": 312
        },
        "id": "najQpPyBkJlK",
        "outputId": "ce372d77-bb2b-433f-c9df-72699bf8dc39"
      },
      "source": [
        "import matplotlib.pyplot as plt\n",
        "#plt.figure(figsize=(30, 2))\n",
        "plt.scatter(q4[\"height\"], q4[\"pct\"])\n",
        "plt.title(\"Shooting Percentage vs Height\")\n",
        "plt.xlabel(\"Height\")\n",
        "plt.ylabel(\"Shooting Percentage on all Types of Shots\")\n",
        "plt.xlim([55, 100])"
      ],
      "execution_count": null,
      "outputs": [
        {
          "output_type": "execute_result",
          "data": {
            "text/plain": [
              "(55.0, 100.0)"
            ]
          },
          "metadata": {},
          "execution_count": 10
        },
        {
          "output_type": "display_data",
          "data": {
            "image/png": "[encoded data removed]",
            "text/plain": [
              "<Figure size 432x288 with 1 Axes>"
            ]
          },
          "metadata": {
            "needs_background": "light"
          }
        }
      ]
    },
    {
      "cell_type": "code",
      "metadata": {
        "id": "VrF4wtrskz15"
      },
      "source": [
        "%%bigquery --project $project_id q5\n",
        "\n",
        "SELECT weight,\n",
        "(SUM(free_throws_made) + SUM(two_points_made) + SUM(three_points_made))/(SUM(free_throws_att) + SUM(two_points_att) + SUM(three_points_att)) pct \n",
        "FROM `bigquery-public-data.ncaa_basketball.mbb_players_games_sr`\n",
        "GROUP BY weight\n",
        "HAVING (SUM(free_throws_att) + SUM(two_points_att) + SUM(three_points_att)) != 0"
      ],
      "execution_count": null,
      "outputs": []
    },
    {
      "cell_type": "code",
      "metadata": {
        "colab": {
          "base_uri": "https://localhost:8080/",
          "height": 312
        },
        "id": "On6OAChBk59p",
        "outputId": "f7018ea3-9a0e-461f-d78b-1486e44dd934"
      },
      "source": [
        "import matplotlib.pyplot as plt\n",
        "plt.scatter(q5[\"weight\"], q5[\"pct\"])\n",
        "plt.title(\"Shooting Percentage vs Weight\")\n",
        "plt.xlabel(\"Weight\")\n",
        "plt.ylabel(\"Shooting Percentage on all Types of Shots\")\n",
        "plt.xlim([120, 375])"
      ],
      "execution_count": null,
      "outputs": [
        {
          "output_type": "execute_result",
          "data": {
            "text/plain": [
              "(120.0, 375.0)"
            ]
          },
          "metadata": {},
          "execution_count": 15
        },
        {
          "output_type": "display_data",
          "data": {
            "image/png": "[encoded data removed]",
            "text/plain": [
              "<Figure size 432x288 with 1 Axes>"
            ]
          },
          "metadata": {
            "needs_background": "light"
          }
        }
      ]
    },
    {
      "cell_type": "markdown",
      "metadata": {
        "id": "67FwqAnNlLOh"
      },
      "source": [
        "From this, we can see that there seems to be some correlation between height, weight, and shooting percentage. For height, taller players tend to have better shooting splits. With weight, there seems to be a positive trend in shooting percentage with weight, unless the player reaches over 300 pounds. There are some outliers, but this is only in regions where there is likely only one player of a certain height or weight, and thus, it is more likely for the shooting splits to be closer to 0 or 1 (in the case of very few shots taken). "
      ]
    },
    {
      "cell_type": "markdown",
      "metadata": {
        "id": "NhFSJifsiC1U"
      },
      "source": [
        "## Data Prediction"
      ]
    },
    {
      "cell_type": "markdown",
      "metadata": {
        "id": "ofeY7XQuyhOU"
      },
      "source": [
        "---\n",
        "We can use the above features to train with, plus some other useful features that are more trivial to use. We can form the problem as a logistic regression problem that attempts to determine whether the player will make or miss the shot based on the provided features. The training set will be the data from the 2013-2014 season until 2016. The validation set will be data from 2017, and the test set will be data from 2018. \n",
        "\n",
        "---"
      ]
    },
    {
      "cell_type": "code",
      "metadata": {
        "colab": {
          "base_uri": "https://localhost:8080/"
        },
        "id": "pA71LO0VugmL",
        "outputId": "d3d2b547-e13a-496d-aeae-8fd28dcc2fec"
      },
      "source": [
        "# Run this cell to create a dataset to store your model, or create in the UI\n",
        "\n",
        "model_dataset_name = 'ncaa_basketball'\n",
        "\n",
        "dataset = bigquery.Dataset(client.dataset(model_dataset_name))\n",
        "dataset.location = 'US'\n",
        "client.create_dataset(dataset)"
      ],
      "execution_count": null,
      "outputs": [
        {
          "output_type": "execute_result",
          "data": {
            "text/plain": [
              "Dataset(DatasetReference('project1-327322', 'ncaa_basketball'))"
            ]
          },
          "metadata": {},
          "execution_count": 16
        }
      ]
    },
    {
      "cell_type": "code",
      "metadata": {
        "colab": {
          "base_uri": "https://localhost:8080/",
          "height": 32
        },
        "id": "uaNzVM2Ml64Z",
        "outputId": "75946505-e473-46d1-d19d-58d8ed66ac87"
      },
      "source": [
        "%%bigquery --project $project_id\n",
        "\n",
        "# YOUR QUERY HERE\n",
        "\n",
        "CREATE OR REPLACE MODEL `ncaa_basketball.basketball_model` \n",
        "OPTIONS(model_type = 'logistic_reg') AS\n",
        "SELECT label, distance, clutch_shot, shot_type, three_point_shot, w, h, ft, two, three, r, a, s \n",
        "FROM \n",
        "\n",
        "(SELECT IF(team_basket = \"left\", SQRT(POWER(event_coord_x, 2) + POWER(event_coord_y - 300, 2)), SQRT(POWER(event_coord_x - 1128, 2) + POWER(event_coord_y - 300, 2))) distance,\n",
        "IF(shot_made = false, 0, 1) label, IF(IF(elapsed_time_sec > 1200, 2400 - elapsed_time_sec, 1200 - elapsed_time_sec) > 15, 0, 1) clutch_shot,\n",
        "shot_type, three_point_shot, player_id FROM \n",
        "`bigquery-public-data.ncaa_basketball.mbb_pbp_sr` \n",
        "WHERE EXTRACT(YEAR FROM scheduled_date) <= 2016\n",
        "AND type='fieldgoal'\n",
        ") t1,\n",
        "\n",
        "(SELECT AVG(weight) w, AVG(height) h, SUM(free_throws_made)/SUM(free_throws_att) ft, \n",
        "SUM(two_points_made)/SUM(two_points_att) two,\n",
        "SUM(three_points_made)/SUM(three_points_att) three, \n",
        "AVG(rebounds) r, AVG(assists) a, AVG(steals) s, player_id\n",
        "FROM `bigquery-public-data.ncaa_basketball.mbb_players_games_sr`\n",
        "GROUP BY player_id\n",
        "HAVING SUM(free_throws_att) != 0\n",
        "AND SUM(two_points_att) != 0\n",
        "AND SUM(three_points_att) != 0\n",
        ") t2\n",
        "\n",
        "WHERE t1.player_id = t2.player_id\n",
        "\n",
        "\n"
      ],
      "execution_count": null,
      "outputs": [
        {
          "output_type": "execute_result",
          "data": {
            "text/html": [
              "<div>\n",
              "<style scoped>\n",
              "    .dataframe tbody tr th:only-of-type {\n",
              "        vertical-align: middle;\n",
              "    }\n",
              "\n",
              "    .dataframe tbody tr th {\n",
              "        vertical-align: top;\n",
              "    }\n",
              "\n",
              "    .dataframe thead th {\n",
              "        text-align: right;\n",
              "    }\n",
              "</style>\n",
              "<table border=\"1\" class=\"dataframe\">\n",
              "  <thead>\n",
              "    <tr style=\"text-align: right;\">\n",
              "      <th></th>\n",
              "    </tr>\n",
              "  </thead>\n",
              "  <tbody>\n",
              "  </tbody>\n",
              "</table>\n",
              "</div>"
            ],
            "text/plain": [
              "Empty DataFrame\n",
              "Columns: []\n",
              "Index: []"
            ]
          },
          "metadata": {},
          "execution_count": 26
        }
      ]
    },
    {
      "cell_type": "code",
      "metadata": {
        "colab": {
          "base_uri": "https://localhost:8080/",
          "height": 174
        },
        "id": "Q4USfQBWuukC",
        "outputId": "96de707e-19cf-452a-dc6d-41f7cfff59ec"
      },
      "source": [
        "%%bigquery --project $project_id\n",
        "\n",
        "# Run cell to view training stats\n",
        "\n",
        "SELECT\n",
        "  *\n",
        "FROM\n",
        "  ML.TRAINING_INFO(MODEL `ncaa_basketball.basketball_model`)"
      ],
      "execution_count": null,
      "outputs": [
        {
          "output_type": "execute_result",
          "data": {
            "text/html": [
              "<div>\n",
              "<style scoped>\n",
              "    .dataframe tbody tr th:only-of-type {\n",
              "        vertical-align: middle;\n",
              "    }\n",
              "\n",
              "    .dataframe tbody tr th {\n",
              "        vertical-align: top;\n",
              "    }\n",
              "\n",
              "    .dataframe thead th {\n",
              "        text-align: right;\n",
              "    }\n",
              "</style>\n",
              "<table border=\"1\" class=\"dataframe\">\n",
              "  <thead>\n",
              "    <tr style=\"text-align: right;\">\n",
              "      <th></th>\n",
              "      <th>training_run</th>\n",
              "      <th>iteration</th>\n",
              "      <th>loss</th>\n",
              "      <th>eval_loss</th>\n",
              "      <th>learning_rate</th>\n",
              "      <th>duration_ms</th>\n",
              "    </tr>\n",
              "  </thead>\n",
              "  <tbody>\n",
              "    <tr>\n",
              "      <th>0</th>\n",
              "      <td>0</td>\n",
              "      <td>3</td>\n",
              "      <td>0.654673</td>\n",
              "      <td>0.654735</td>\n",
              "      <td>1.6</td>\n",
              "      <td>19822</td>\n",
              "    </tr>\n",
              "    <tr>\n",
              "      <th>1</th>\n",
              "      <td>0</td>\n",
              "      <td>2</td>\n",
              "      <td>0.660715</td>\n",
              "      <td>0.660529</td>\n",
              "      <td>0.8</td>\n",
              "      <td>21495</td>\n",
              "    </tr>\n",
              "    <tr>\n",
              "      <th>2</th>\n",
              "      <td>0</td>\n",
              "      <td>1</td>\n",
              "      <td>0.672246</td>\n",
              "      <td>0.672080</td>\n",
              "      <td>0.4</td>\n",
              "      <td>18987</td>\n",
              "    </tr>\n",
              "    <tr>\n",
              "      <th>3</th>\n",
              "      <td>0</td>\n",
              "      <td>0</td>\n",
              "      <td>0.684375</td>\n",
              "      <td>0.684300</td>\n",
              "      <td>0.2</td>\n",
              "      <td>15375</td>\n",
              "    </tr>\n",
              "  </tbody>\n",
              "</table>\n",
              "</div>"
            ],
            "text/plain": [
              "   training_run  iteration      loss  eval_loss  learning_rate  duration_ms\n",
              "0             0          3  0.654673   0.654735            1.6        19822\n",
              "1             0          2  0.660715   0.660529            0.8        21495\n",
              "2             0          1  0.672246   0.672080            0.4        18987\n",
              "3             0          0  0.684375   0.684300            0.2        15375"
            ]
          },
          "metadata": {},
          "execution_count": 27
        }
      ]
    },
    {
      "cell_type": "code",
      "metadata": {
        "colab": {
          "base_uri": "https://localhost:8080/",
          "height": 81
        },
        "id": "De-aLpZavvVa",
        "outputId": "f0d6ec4f-a48c-49b7-d9b7-9faa57c91bf1"
      },
      "source": [
        "%%bigquery --project $project_id\n",
        "\n",
        "SELECT\n",
        "  *\n",
        "FROM\n",
        "  ML.EVALUATE(MODEL `ncaa_basketball.basketball_model`, (\n",
        "    SELECT label, distance, clutch_shot, shot_type, three_point_shot, w, h, ft, two, three, r, a, s \n",
        "FROM \n",
        "\n",
        "(SELECT IF(team_basket = \"left\", SQRT(POWER(event_coord_x, 2) + POWER(event_coord_y - 300, 2)), SQRT(POWER(event_coord_x - 1128, 2) + POWER(event_coord_y - 300, 2))) distance,\n",
        "IF(shot_made = false, 0, 1) label, IF(IF(elapsed_time_sec > 1200, 2400 - elapsed_time_sec, 1200 - elapsed_time_sec) > 15, 0, 1) clutch_shot,\n",
        "shot_type, three_point_shot, player_id FROM \n",
        "`bigquery-public-data.ncaa_basketball.mbb_pbp_sr` \n",
        "WHERE EXTRACT(YEAR FROM scheduled_date) = 2017\n",
        "AND type='fieldgoal'\n",
        ") t1,\n",
        "\n",
        "(SELECT AVG(weight) w, AVG(height) h, SUM(free_throws_made)/SUM(free_throws_att) ft, \n",
        "SUM(two_points_made)/SUM(two_points_att) two,\n",
        "SUM(three_points_made)/SUM(three_points_att) three, \n",
        "AVG(rebounds) r, AVG(assists) a, AVG(steals) s, player_id\n",
        "FROM `bigquery-public-data.ncaa_basketball.mbb_players_games_sr`\n",
        "GROUP BY player_id\n",
        "HAVING SUM(free_throws_att) != 0\n",
        "AND SUM(two_points_att) != 0\n",
        "AND SUM(three_points_att) != 0\n",
        ") t2\n",
        "\n",
        "WHERE t1.player_id = t2.player_id\n",
        ") )"
      ],
      "execution_count": null,
      "outputs": [
        {
          "output_type": "execute_result",
          "data": {
            "text/html": [
              "<div>\n",
              "<style scoped>\n",
              "    .dataframe tbody tr th:only-of-type {\n",
              "        vertical-align: middle;\n",
              "    }\n",
              "\n",
              "    .dataframe tbody tr th {\n",
              "        vertical-align: top;\n",
              "    }\n",
              "\n",
              "    .dataframe thead th {\n",
              "        text-align: right;\n",
              "    }\n",
              "</style>\n",
              "<table border=\"1\" class=\"dataframe\">\n",
              "  <thead>\n",
              "    <tr style=\"text-align: right;\">\n",
              "      <th></th>\n",
              "      <th>precision</th>\n",
              "      <th>recall</th>\n",
              "      <th>accuracy</th>\n",
              "      <th>f1_score</th>\n",
              "      <th>log_loss</th>\n",
              "      <th>roc_auc</th>\n",
              "    </tr>\n",
              "  </thead>\n",
              "  <tbody>\n",
              "    <tr>\n",
              "      <th>0</th>\n",
              "      <td>0.607162</td>\n",
              "      <td>0.432309</td>\n",
              "      <td>0.629446</td>\n",
              "      <td>0.505029</td>\n",
              "      <td>0.654579</td>\n",
              "      <td>0.630357</td>\n",
              "    </tr>\n",
              "  </tbody>\n",
              "</table>\n",
              "</div>"
            ],
            "text/plain": [
              "   precision    recall  accuracy  f1_score  log_loss   roc_auc\n",
              "0   0.607162  0.432309  0.629446  0.505029  0.654579  0.630357"
            ]
          },
          "metadata": {},
          "execution_count": 28
        }
      ]
    },
    {
      "cell_type": "code",
      "metadata": {
        "colab": {
          "base_uri": "https://localhost:8080/",
          "height": 81
        },
        "id": "lClh9kE6wIGr",
        "outputId": "83af1c6f-98c1-4066-cb24-dfdfb4113db7"
      },
      "source": [
        "%%bigquery --project $project_id\n",
        "\n",
        "SELECT\n",
        "  *\n",
        "FROM\n",
        "  ML.EVALUATE(MODEL `ncaa_basketball.basketball_model`, (\n",
        "   SELECT label, distance, clutch_shot, shot_type, three_point_shot, w, h, ft, two, three, r, a, s \n",
        "FROM \n",
        "\n",
        "(SELECT IF(team_basket = \"left\", SQRT(POWER(event_coord_x, 2) + POWER(event_coord_y - 300, 2)), SQRT(POWER(event_coord_x - 1128, 2) + POWER(event_coord_y - 300, 2))) distance,\n",
        "IF(shot_made = false, 0, 1) label, IF(IF(elapsed_time_sec > 1200, 2400 - elapsed_time_sec, 1200 - elapsed_time_sec) > 15, 0, 1) clutch_shot,\n",
        "shot_type, three_point_shot, player_id FROM \n",
        "`bigquery-public-data.ncaa_basketball.mbb_pbp_sr` \n",
        "WHERE EXTRACT(YEAR FROM scheduled_date) = 2018\n",
        "AND type='fieldgoal'\n",
        ") t1,\n",
        "\n",
        "(SELECT AVG(weight) w, AVG(height) h, SUM(free_throws_made)/SUM(free_throws_att) ft, \n",
        "SUM(two_points_made)/SUM(two_points_att) two,\n",
        "SUM(three_points_made)/SUM(three_points_att) three, \n",
        "AVG(rebounds) r, AVG(assists) a, AVG(steals) s, player_id\n",
        "FROM `bigquery-public-data.ncaa_basketball.mbb_players_games_sr`\n",
        "GROUP BY player_id\n",
        "HAVING SUM(free_throws_att) != 0\n",
        "AND SUM(two_points_att) != 0\n",
        "AND SUM(three_points_att) != 0\n",
        ") t2\n",
        "\n",
        "WHERE t1.player_id = t2.player_id\n",
        ") )"
      ],
      "execution_count": null,
      "outputs": [
        {
          "output_type": "execute_result",
          "data": {
            "text/html": [
              "<div>\n",
              "<style scoped>\n",
              "    .dataframe tbody tr th:only-of-type {\n",
              "        vertical-align: middle;\n",
              "    }\n",
              "\n",
              "    .dataframe tbody tr th {\n",
              "        vertical-align: top;\n",
              "    }\n",
              "\n",
              "    .dataframe thead th {\n",
              "        text-align: right;\n",
              "    }\n",
              "</style>\n",
              "<table border=\"1\" class=\"dataframe\">\n",
              "  <thead>\n",
              "    <tr style=\"text-align: right;\">\n",
              "      <th></th>\n",
              "      <th>precision</th>\n",
              "      <th>recall</th>\n",
              "      <th>accuracy</th>\n",
              "      <th>f1_score</th>\n",
              "      <th>log_loss</th>\n",
              "      <th>roc_auc</th>\n",
              "    </tr>\n",
              "  </thead>\n",
              "  <tbody>\n",
              "    <tr>\n",
              "      <th>0</th>\n",
              "      <td>0.601252</td>\n",
              "      <td>0.432087</td>\n",
              "      <td>0.625823</td>\n",
              "      <td>0.502823</td>\n",
              "      <td>0.655326</td>\n",
              "      <td>0.628883</td>\n",
              "    </tr>\n",
              "  </tbody>\n",
              "</table>\n",
              "</div>"
            ],
            "text/plain": [
              "   precision    recall  accuracy  f1_score  log_loss   roc_auc\n",
              "0   0.601252  0.432087  0.625823  0.502823  0.655326  0.628883"
            ]
          },
          "metadata": {},
          "execution_count": 29
        }
      ]
    },
    {
      "cell_type": "code",
      "metadata": {
        "colab": {
          "base_uri": "https://localhost:8080/",
          "height": 597
        },
        "id": "ZzlR8drswWbq",
        "outputId": "3032b28d-7658-4263-ef40-5b445f2d2784"
      },
      "source": [
        "%%bigquery --project $project_id\n",
        "\n",
        "SELECT\n",
        "*\n",
        "FROM\n",
        "  ML.PREDICT(MODEL `ncaa_basketball.basketball_model`, (\n",
        "   SELECT label, distance, clutch_shot, shot_type, three_point_shot, w, h, ft, two, three, r, a, s \n",
        "FROM \n",
        "\n",
        "(SELECT IF(team_basket = \"left\", SQRT(POWER(event_coord_x, 2) + POWER(event_coord_y - 300, 2)), SQRT(POWER(event_coord_x - 1128, 2) + POWER(event_coord_y - 300, 2))) distance,\n",
        "IF(shot_made = false, 0, 1) label, IF(IF(elapsed_time_sec > 1200, 2400 - elapsed_time_sec, 1200 - elapsed_time_sec) > 15, 0, 1) clutch_shot,\n",
        "shot_type, three_point_shot, player_id FROM \n",
        "`bigquery-public-data.ncaa_basketball.mbb_pbp_sr` \n",
        "WHERE EXTRACT(YEAR FROM scheduled_date) = 2018\n",
        "AND type='fieldgoal'\n",
        ") t1,\n",
        "\n",
        "(SELECT AVG(weight) w, AVG(height) h, SUM(free_throws_made)/SUM(free_throws_att) ft, \n",
        "SUM(two_points_made)/SUM(two_points_att) two,\n",
        "SUM(three_points_made)/SUM(three_points_att) three, \n",
        "AVG(rebounds) r, AVG(assists) a, AVG(steals) s, player_id\n",
        "FROM `bigquery-public-data.ncaa_basketball.mbb_players_games_sr`\n",
        "GROUP BY player_id\n",
        "HAVING SUM(free_throws_att) != 0\n",
        "AND SUM(two_points_att) != 0\n",
        "AND SUM(three_points_att) != 0\n",
        ") t2\n",
        "\n",
        "WHERE t1.player_id = t2.player_id\n",
        "))"
      ],
      "execution_count": null,
      "outputs": [
        {
          "output_type": "execute_result",
          "data": {
            "text/html": [
              "<div>\n",
              "<style scoped>\n",
              "    .dataframe tbody tr th:only-of-type {\n",
              "        vertical-align: middle;\n",
              "    }\n",
              "\n",
              "    .dataframe tbody tr th {\n",
              "        vertical-align: top;\n",
              "    }\n",
              "\n",
              "    .dataframe thead th {\n",
              "        text-align: right;\n",
              "    }\n",
              "</style>\n",
              "<table border=\"1\" class=\"dataframe\">\n",
              "  <thead>\n",
              "    <tr style=\"text-align: right;\">\n",
              "      <th></th>\n",
              "      <th>predicted_label</th>\n",
              "      <th>predicted_label_probs</th>\n",
              "      <th>label</th>\n",
              "      <th>distance</th>\n",
              "      <th>clutch_shot</th>\n",
              "      <th>shot_type</th>\n",
              "      <th>three_point_shot</th>\n",
              "      <th>w</th>\n",
              "      <th>h</th>\n",
              "      <th>ft</th>\n",
              "      <th>two</th>\n",
              "      <th>three</th>\n",
              "      <th>r</th>\n",
              "      <th>a</th>\n",
              "      <th>s</th>\n",
              "    </tr>\n",
              "  </thead>\n",
              "  <tbody>\n",
              "    <tr>\n",
              "      <th>0</th>\n",
              "      <td>1</td>\n",
              "      <td>[{'label': 1, 'prob': 0.5094775311283893}, {'l...</td>\n",
              "      <td>0</td>\n",
              "      <td>171.093542</td>\n",
              "      <td>0</td>\n",
              "      <td>hook shot</td>\n",
              "      <td>False</td>\n",
              "      <td>233.0</td>\n",
              "      <td>86.0</td>\n",
              "      <td>0.512821</td>\n",
              "      <td>0.621495</td>\n",
              "      <td>0.000000</td>\n",
              "      <td>1.990099</td>\n",
              "      <td>0.079208</td>\n",
              "      <td>0.089109</td>\n",
              "    </tr>\n",
              "    <tr>\n",
              "      <th>1</th>\n",
              "      <td>1</td>\n",
              "      <td>[{'label': 1, 'prob': 0.5082500843309192}, {'l...</td>\n",
              "      <td>0</td>\n",
              "      <td>174.427635</td>\n",
              "      <td>0</td>\n",
              "      <td>hook shot</td>\n",
              "      <td>False</td>\n",
              "      <td>233.0</td>\n",
              "      <td>86.0</td>\n",
              "      <td>0.512821</td>\n",
              "      <td>0.621495</td>\n",
              "      <td>0.000000</td>\n",
              "      <td>1.990099</td>\n",
              "      <td>0.079208</td>\n",
              "      <td>0.089109</td>\n",
              "    </tr>\n",
              "    <tr>\n",
              "      <th>2</th>\n",
              "      <td>0</td>\n",
              "      <td>[{'label': 1, 'prob': 0.4709162033159695}, {'l...</td>\n",
              "      <td>1</td>\n",
              "      <td>110.113578</td>\n",
              "      <td>0</td>\n",
              "      <td>jump shot</td>\n",
              "      <td>False</td>\n",
              "      <td>233.0</td>\n",
              "      <td>86.0</td>\n",
              "      <td>0.512821</td>\n",
              "      <td>0.621495</td>\n",
              "      <td>0.000000</td>\n",
              "      <td>1.990099</td>\n",
              "      <td>0.079208</td>\n",
              "      <td>0.089109</td>\n",
              "    </tr>\n",
              "    <tr>\n",
              "      <th>3</th>\n",
              "      <td>1</td>\n",
              "      <td>[{'label': 1, 'prob': 0.5472972586744731}, {'l...</td>\n",
              "      <td>0</td>\n",
              "      <td>68.014704</td>\n",
              "      <td>0</td>\n",
              "      <td>hook shot</td>\n",
              "      <td>False</td>\n",
              "      <td>233.0</td>\n",
              "      <td>86.0</td>\n",
              "      <td>0.512821</td>\n",
              "      <td>0.621495</td>\n",
              "      <td>0.000000</td>\n",
              "      <td>1.990099</td>\n",
              "      <td>0.079208</td>\n",
              "      <td>0.089109</td>\n",
              "    </tr>\n",
              "    <tr>\n",
              "      <th>4</th>\n",
              "      <td>1</td>\n",
              "      <td>[{'label': 1, 'prob': 0.501570764562482}, {'la...</td>\n",
              "      <td>0</td>\n",
              "      <td>192.566872</td>\n",
              "      <td>0</td>\n",
              "      <td>hook shot</td>\n",
              "      <td>False</td>\n",
              "      <td>233.0</td>\n",
              "      <td>86.0</td>\n",
              "      <td>0.512821</td>\n",
              "      <td>0.621495</td>\n",
              "      <td>0.000000</td>\n",
              "      <td>1.990099</td>\n",
              "      <td>0.079208</td>\n",
              "      <td>0.089109</td>\n",
              "    </tr>\n",
              "    <tr>\n",
              "      <th>...</th>\n",
              "      <td>...</td>\n",
              "      <td>...</td>\n",
              "      <td>...</td>\n",
              "      <td>...</td>\n",
              "      <td>...</td>\n",
              "      <td>...</td>\n",
              "      <td>...</td>\n",
              "      <td>...</td>\n",
              "      <td>...</td>\n",
              "      <td>...</td>\n",
              "      <td>...</td>\n",
              "      <td>...</td>\n",
              "      <td>...</td>\n",
              "      <td>...</td>\n",
              "      <td>...</td>\n",
              "    </tr>\n",
              "    <tr>\n",
              "      <th>149208</th>\n",
              "      <td>1</td>\n",
              "      <td>[{'label': 1, 'prob': 0.5067997088625192}, {'l...</td>\n",
              "      <td>1</td>\n",
              "      <td>127.577427</td>\n",
              "      <td>0</td>\n",
              "      <td>hook shot</td>\n",
              "      <td>False</td>\n",
              "      <td>230.0</td>\n",
              "      <td>83.0</td>\n",
              "      <td>0.388060</td>\n",
              "      <td>0.564516</td>\n",
              "      <td>0.214286</td>\n",
              "      <td>1.655738</td>\n",
              "      <td>0.262295</td>\n",
              "      <td>0.131148</td>\n",
              "    </tr>\n",
              "    <tr>\n",
              "      <th>149209</th>\n",
              "      <td>1</td>\n",
              "      <td>[{'label': 1, 'prob': 0.544709048167753}, {'la...</td>\n",
              "      <td>1</td>\n",
              "      <td>97.082439</td>\n",
              "      <td>0</td>\n",
              "      <td>layup</td>\n",
              "      <td>False</td>\n",
              "      <td>230.0</td>\n",
              "      <td>83.0</td>\n",
              "      <td>0.388060</td>\n",
              "      <td>0.564516</td>\n",
              "      <td>0.214286</td>\n",
              "      <td>1.655738</td>\n",
              "      <td>0.262295</td>\n",
              "      <td>0.131148</td>\n",
              "    </tr>\n",
              "    <tr>\n",
              "      <th>149210</th>\n",
              "      <td>0</td>\n",
              "      <td>[{'label': 1, 'prob': 0.4839052168027021}, {'l...</td>\n",
              "      <td>0</td>\n",
              "      <td>118.848643</td>\n",
              "      <td>0</td>\n",
              "      <td>hook shot</td>\n",
              "      <td>False</td>\n",
              "      <td>245.0</td>\n",
              "      <td>83.0</td>\n",
              "      <td>0.453333</td>\n",
              "      <td>0.483146</td>\n",
              "      <td>0.090909</td>\n",
              "      <td>1.120482</td>\n",
              "      <td>0.216867</td>\n",
              "      <td>0.073171</td>\n",
              "    </tr>\n",
              "    <tr>\n",
              "      <th>149211</th>\n",
              "      <td>0</td>\n",
              "      <td>[{'label': 1, 'prob': 0.34439135167088303}, {'...</td>\n",
              "      <td>1</td>\n",
              "      <td>335.037311</td>\n",
              "      <td>0</td>\n",
              "      <td>jump shot</td>\n",
              "      <td>True</td>\n",
              "      <td>228.0</td>\n",
              "      <td>83.0</td>\n",
              "      <td>0.505495</td>\n",
              "      <td>0.564815</td>\n",
              "      <td>0.324324</td>\n",
              "      <td>2.312500</td>\n",
              "      <td>0.162500</td>\n",
              "      <td>0.150000</td>\n",
              "    </tr>\n",
              "    <tr>\n",
              "      <th>149212</th>\n",
              "      <td>0</td>\n",
              "      <td>[{'label': 1, 'prob': 0.34633523157433854}, {'...</td>\n",
              "      <td>0</td>\n",
              "      <td>329.200547</td>\n",
              "      <td>0</td>\n",
              "      <td>jump shot</td>\n",
              "      <td>True</td>\n",
              "      <td>228.0</td>\n",
              "      <td>83.0</td>\n",
              "      <td>0.505495</td>\n",
              "      <td>0.564815</td>\n",
              "      <td>0.324324</td>\n",
              "      <td>2.312500</td>\n",
              "      <td>0.162500</td>\n",
              "      <td>0.150000</td>\n",
              "    </tr>\n",
              "  </tbody>\n",
              "</table>\n",
              "<p>149213 rows × 15 columns</p>\n",
              "</div>"
            ],
            "text/plain": [
              "        predicted_label  ...         s\n",
              "0                     1  ...  0.089109\n",
              "1                     1  ...  0.089109\n",
              "2                     0  ...  0.089109\n",
              "3                     1  ...  0.089109\n",
              "4                     1  ...  0.089109\n",
              "...                 ...  ...       ...\n",
              "149208                1  ...  0.131148\n",
              "149209                1  ...  0.131148\n",
              "149210                0  ...  0.073171\n",
              "149211                0  ...  0.150000\n",
              "149212                0  ...  0.150000\n",
              "\n",
              "[149213 rows x 15 columns]"
            ]
          },
          "metadata": {},
          "execution_count": 30
        }
      ]
    },
    {
      "cell_type": "markdown",
      "metadata": {
        "id": "Ozoi9nGO3g8s"
      },
      "source": [
        "In order to determine which metric is most important, we can see the ratios of each class:\n"
      ]
    },
    {
      "cell_type": "code",
      "metadata": {
        "colab": {
          "base_uri": "https://localhost:8080/",
          "height": 81
        },
        "id": "ZJMmLu4C4M81",
        "outputId": "ac2e0f2a-b338-4767-ae91-cce75e9c10e8"
      },
      "source": [
        "%%bigquery --project $project_id\n",
        "SELECT COUNT(*) FROM `bigquery-public-data.ncaa_basketball.mbb_pbp_sr` \n",
        "WHERE type = \"fieldgoal\"\n",
        "AND shot_made = true"
      ],
      "execution_count": null,
      "outputs": [
        {
          "output_type": "execute_result",
          "data": {
            "text/html": [
              "<div>\n",
              "<style scoped>\n",
              "    .dataframe tbody tr th:only-of-type {\n",
              "        vertical-align: middle;\n",
              "    }\n",
              "\n",
              "    .dataframe tbody tr th {\n",
              "        vertical-align: top;\n",
              "    }\n",
              "\n",
              "    .dataframe thead th {\n",
              "        text-align: right;\n",
              "    }\n",
              "</style>\n",
              "<table border=\"1\" class=\"dataframe\">\n",
              "  <thead>\n",
              "    <tr style=\"text-align: right;\">\n",
              "      <th></th>\n",
              "      <th>f0_</th>\n",
              "    </tr>\n",
              "  </thead>\n",
              "  <tbody>\n",
              "    <tr>\n",
              "      <th>0</th>\n",
              "      <td>554615</td>\n",
              "    </tr>\n",
              "  </tbody>\n",
              "</table>\n",
              "</div>"
            ],
            "text/plain": [
              "      f0_\n",
              "0  554615"
            ]
          },
          "metadata": {},
          "execution_count": 31
        }
      ]
    },
    {
      "cell_type": "code",
      "metadata": {
        "colab": {
          "base_uri": "https://localhost:8080/",
          "height": 81
        },
        "id": "Fdm7YOQ04QC7",
        "outputId": "1d8eb484-a55e-4d01-d2be-e846e5f88421"
      },
      "source": [
        "%%bigquery --project $project_id\n",
        "SELECT COUNT(*) FROM `bigquery-public-data.ncaa_basketball.mbb_pbp_sr` \n",
        "WHERE type = \"fieldgoal\"\n",
        "AND shot_made = false"
      ],
      "execution_count": null,
      "outputs": [
        {
          "output_type": "execute_result",
          "data": {
            "text/html": [
              "<div>\n",
              "<style scoped>\n",
              "    .dataframe tbody tr th:only-of-type {\n",
              "        vertical-align: middle;\n",
              "    }\n",
              "\n",
              "    .dataframe tbody tr th {\n",
              "        vertical-align: top;\n",
              "    }\n",
              "\n",
              "    .dataframe thead th {\n",
              "        text-align: right;\n",
              "    }\n",
              "</style>\n",
              "<table border=\"1\" class=\"dataframe\">\n",
              "  <thead>\n",
              "    <tr style=\"text-align: right;\">\n",
              "      <th></th>\n",
              "      <th>f0_</th>\n",
              "    </tr>\n",
              "  </thead>\n",
              "  <tbody>\n",
              "    <tr>\n",
              "      <th>0</th>\n",
              "      <td>717356</td>\n",
              "    </tr>\n",
              "  </tbody>\n",
              "</table>\n",
              "</div>"
            ],
            "text/plain": [
              "      f0_\n",
              "0  717356"
            ]
          },
          "metadata": {},
          "execution_count": 32
        }
      ]
    },
    {
      "cell_type": "markdown",
      "metadata": {
        "id": "1NwQovpP4bgV"
      },
      "source": [
        "We can see that the classes are roughly balanced, so accuracy is the best metric to use. The accuracy was about 63%, which is not ideal, but still a better predictor than predicting without information. "
      ]
    },
    {
      "cell_type": "markdown",
      "metadata": {
        "id": "Dg7Lhqi_yDcy"
      },
      "source": [
        "## Conclusion"
      ]
    },
    {
      "cell_type": "markdown",
      "metadata": {
        "id": "YmVpTigjyHMY"
      },
      "source": [
        "---\n",
        "\n",
        "The selected features above tend to demonstrate the quality of a particular player. However, as we know from basketball in real life, even the best players often miss shots they are expected to make, and it is often impossible to know why the player missed the shot. Most players' field goal percentages tend to hover around 40%-50% in the long run, even from midrange. However, it is often easy to predict with high probability whether a shot will go in if it is either very close to the attacking basket or very far away from the attacking basket. This fact likely boosted the model's performance. We can put this theory to the test:\n",
        "\n",
        "---"
      ]
    },
    {
      "cell_type": "code",
      "metadata": {
        "colab": {
          "base_uri": "https://localhost:8080/",
          "height": 81
        },
        "id": "LSjcP_nR-cMn",
        "outputId": "8e80acb6-7af1-4bf6-e79c-d32331ed3ce2"
      },
      "source": [
        "%%bigquery --project $project_id\n",
        "\n",
        "SELECT\n",
        "  *\n",
        "FROM\n",
        "  ML.EVALUATE(MODEL `ncaa_basketball.basketball_model`, (\n",
        "   SELECT label, distance, clutch_shot, shot_type, three_point_shot, w, h, ft, two, three, r, a, s \n",
        "FROM \n",
        "\n",
        "(SELECT IF(team_basket = \"left\", SQRT(POWER(event_coord_x, 2) + POWER(event_coord_y - 300, 2)), SQRT(POWER(event_coord_x - 1128, 2) + POWER(event_coord_y - 300, 2))) distance,\n",
        "IF(shot_made = false, 0, 1) label, IF(IF(elapsed_time_sec > 1200, 2400 - elapsed_time_sec, 1200 - elapsed_time_sec) > 15, 0, 1) clutch_shot,\n",
        "shot_type, three_point_shot, player_id FROM \n",
        "`bigquery-public-data.ncaa_basketball.mbb_pbp_sr` \n",
        "WHERE EXTRACT(YEAR FROM scheduled_date) = 2018\n",
        "AND type='fieldgoal'\n",
        ") t1,\n",
        "\n",
        "(SELECT AVG(weight) w, AVG(height) h, SUM(free_throws_made)/SUM(free_throws_att) ft, \n",
        "SUM(two_points_made)/SUM(two_points_att) two,\n",
        "SUM(three_points_made)/SUM(three_points_att) three, \n",
        "AVG(rebounds) r, AVG(assists) a, AVG(steals) s, player_id\n",
        "FROM `bigquery-public-data.ncaa_basketball.mbb_players_games_sr`\n",
        "GROUP BY player_id\n",
        "HAVING SUM(free_throws_att) != 0\n",
        "AND SUM(two_points_att) != 0\n",
        "AND SUM(three_points_att) != 0\n",
        ") t2\n",
        "\n",
        "WHERE t1.player_id = t2.player_id\n",
        "AND distance > 400\n",
        ") )"
      ],
      "execution_count": null,
      "outputs": [
        {
          "output_type": "execute_result",
          "data": {
            "text/html": [
              "<div>\n",
              "<style scoped>\n",
              "    .dataframe tbody tr th:only-of-type {\n",
              "        vertical-align: middle;\n",
              "    }\n",
              "\n",
              "    .dataframe tbody tr th {\n",
              "        vertical-align: top;\n",
              "    }\n",
              "\n",
              "    .dataframe thead th {\n",
              "        text-align: right;\n",
              "    }\n",
              "</style>\n",
              "<table border=\"1\" class=\"dataframe\">\n",
              "  <thead>\n",
              "    <tr style=\"text-align: right;\">\n",
              "      <th></th>\n",
              "      <th>precision</th>\n",
              "      <th>recall</th>\n",
              "      <th>accuracy</th>\n",
              "      <th>f1_score</th>\n",
              "      <th>log_loss</th>\n",
              "      <th>roc_auc</th>\n",
              "    </tr>\n",
              "  </thead>\n",
              "  <tbody>\n",
              "    <tr>\n",
              "      <th>0</th>\n",
              "      <td>0.0</td>\n",
              "      <td>0.0</td>\n",
              "      <td>0.73872</td>\n",
              "      <td>0.0</td>\n",
              "      <td>0.562869</td>\n",
              "      <td>0.611943</td>\n",
              "    </tr>\n",
              "  </tbody>\n",
              "</table>\n",
              "</div>"
            ],
            "text/plain": [
              "   precision  recall  accuracy  f1_score  log_loss   roc_auc\n",
              "0        0.0     0.0   0.73872       0.0  0.562869  0.611943"
            ]
          },
          "metadata": {},
          "execution_count": 37
        }
      ]
    },
    {
      "cell_type": "code",
      "metadata": {
        "colab": {
          "base_uri": "https://localhost:8080/",
          "height": 81
        },
        "id": "eI5JhSxm_kiv",
        "outputId": "dbb365af-180a-4e22-fc53-918ae6385e58"
      },
      "source": [
        "%%bigquery --project $project_id\n",
        "\n",
        "SELECT\n",
        "  *\n",
        "FROM\n",
        "  ML.EVALUATE(MODEL `ncaa_basketball.basketball_model`, (\n",
        "   SELECT label, distance, clutch_shot, shot_type, three_point_shot, w, h, ft, two, three, r, a, s \n",
        "FROM \n",
        "\n",
        "(SELECT IF(team_basket = \"left\", SQRT(POWER(event_coord_x, 2) + POWER(event_coord_y - 300, 2)), SQRT(POWER(event_coord_x - 1128, 2) + POWER(event_coord_y - 300, 2))) distance,\n",
        "IF(shot_made = false, 0, 1) label, IF(IF(elapsed_time_sec > 1200, 2400 - elapsed_time_sec, 1200 - elapsed_time_sec) > 15, 0, 1) clutch_shot,\n",
        "shot_type, three_point_shot, player_id FROM \n",
        "`bigquery-public-data.ncaa_basketball.mbb_pbp_sr` \n",
        "WHERE EXTRACT(YEAR FROM scheduled_date) = 2018\n",
        "AND type='fieldgoal'\n",
        ") t1,\n",
        "\n",
        "(SELECT AVG(weight) w, AVG(height) h, SUM(free_throws_made)/SUM(free_throws_att) ft, \n",
        "SUM(two_points_made)/SUM(two_points_att) two,\n",
        "SUM(three_points_made)/SUM(three_points_att) three, \n",
        "AVG(rebounds) r, AVG(assists) a, AVG(steals) s, player_id\n",
        "FROM `bigquery-public-data.ncaa_basketball.mbb_players_games_sr`\n",
        "GROUP BY player_id\n",
        "HAVING SUM(free_throws_att) != 0\n",
        "AND SUM(two_points_att) != 0\n",
        "AND SUM(three_points_att) != 0\n",
        ") t2\n",
        "\n",
        "WHERE t1.player_id = t2.player_id\n",
        "AND distance < 75\n",
        ") )"
      ],
      "execution_count": null,
      "outputs": [
        {
          "output_type": "execute_result",
          "data": {
            "text/html": [
              "<div>\n",
              "<style scoped>\n",
              "    .dataframe tbody tr th:only-of-type {\n",
              "        vertical-align: middle;\n",
              "    }\n",
              "\n",
              "    .dataframe tbody tr th {\n",
              "        vertical-align: top;\n",
              "    }\n",
              "\n",
              "    .dataframe thead th {\n",
              "        text-align: right;\n",
              "    }\n",
              "</style>\n",
              "<table border=\"1\" class=\"dataframe\">\n",
              "  <thead>\n",
              "    <tr style=\"text-align: right;\">\n",
              "      <th></th>\n",
              "      <th>precision</th>\n",
              "      <th>recall</th>\n",
              "      <th>accuracy</th>\n",
              "      <th>f1_score</th>\n",
              "      <th>log_loss</th>\n",
              "      <th>roc_auc</th>\n",
              "    </tr>\n",
              "  </thead>\n",
              "  <tbody>\n",
              "    <tr>\n",
              "      <th>0</th>\n",
              "      <td>0.719499</td>\n",
              "      <td>0.943347</td>\n",
              "      <td>0.702585</td>\n",
              "      <td>0.816356</td>\n",
              "      <td>0.616178</td>\n",
              "      <td>0.643083</td>\n",
              "    </tr>\n",
              "  </tbody>\n",
              "</table>\n",
              "</div>"
            ],
            "text/plain": [
              "   precision    recall  accuracy  f1_score  log_loss   roc_auc\n",
              "0   0.719499  0.943347  0.702585  0.816356  0.616178  0.643083"
            ]
          },
          "metadata": {},
          "execution_count": 38
        }
      ]
    },
    {
      "cell_type": "markdown",
      "metadata": {
        "id": "QEm3-Jtp_oBo"
      },
      "source": [
        "As we can see, the accuracy was boosted by about 10% in both cases, as expected."
      ]
    }
  ]
}